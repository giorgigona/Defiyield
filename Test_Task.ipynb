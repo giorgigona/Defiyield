{
 "cells": [
  {
   "cell_type": "code",
   "execution_count": 1,
   "id": "7ba5cd22",
   "metadata": {},
   "outputs": [],
   "source": [
    "%load_ext autoreload\n",
    "%autoreload 2"
   ]
  },
  {
   "cell_type": "markdown",
   "id": "56f669c5",
   "metadata": {},
   "source": [
    "## Basic imports"
   ]
  },
  {
   "cell_type": "code",
   "execution_count": 2,
   "id": "4905b262",
   "metadata": {},
   "outputs": [],
   "source": [
    "import pandas as pd\n",
    "import numpy as np"
   ]
  },
  {
   "cell_type": "markdown",
   "id": "bcfd6704",
   "metadata": {},
   "source": [
    "### Graphql imports"
   ]
  },
  {
   "cell_type": "code",
   "execution_count": 3,
   "id": "c57d4b87",
   "metadata": {},
   "outputs": [],
   "source": [
    "import asyncio\n",
    "\n",
    "from gql import Client, gql\n",
    "from gql.transport.aiohttp import AIOHTTPTransport"
   ]
  },
  {
   "cell_type": "markdown",
   "id": "f9b67635",
   "metadata": {},
   "source": [
    "### Visualisation imports"
   ]
  },
  {
   "cell_type": "code",
   "execution_count": 4,
   "id": "d57e744d",
   "metadata": {},
   "outputs": [],
   "source": [
    "# import matplotlib.pyplot as plt\n",
    "import plotly.graph_objects as go"
   ]
  },
  {
   "cell_type": "markdown",
   "id": "828c9483",
   "metadata": {},
   "source": [
    "## Read data"
   ]
  },
  {
   "cell_type": "code",
   "execution_count": 5,
   "id": "380b5dc9",
   "metadata": {},
   "outputs": [],
   "source": [
    "url = \"https://public-api.defiyield.app/graphql/\"\n",
    "header = {\"X-Api-Key\": \"bad7014e-3fd4-473a-b981-1a5c2dd2d72e\"}\n",
    "\n",
    "rekt_query_str = \"\"\"\n",
    "        query {\n",
    "            rekts(\n",
    "                orderBy: {\n",
    "                fundsLost: desc\n",
    "                }\n",
    "            ) {\n",
    "                id, \n",
    "                projectName, \n",
    "                date, \n",
    "                description,\n",
    "                fundsLost, \n",
    "                fundsReturned,\n",
    "                category, \n",
    "                issueType,\n",
    "                chaindIds,\n",
    "                token{\n",
    "                  name\n",
    "                }\n",
    "            }\n",
    "        }\n",
    "        \"\"\"\n",
    "\n",
    "chains_query_str = \"\"\"\n",
    "        query {\n",
    "            chains {\n",
    "                id,\n",
    "                absoluteChainId,\n",
    "                abbr,\n",
    "                name,\n",
    "                type\n",
    "            }\n",
    "        }\n",
    "        \"\"\""
   ]
  },
  {
   "cell_type": "code",
   "execution_count": 6,
   "id": "038c3e2b",
   "metadata": {},
   "outputs": [],
   "source": [
    "async def get_data(query_str):\n",
    "\n",
    "    transport = AIOHTTPTransport(url=url, headers=header)\n",
    "\n",
    "    # Using `async with` on the client will start a connection on the transport\n",
    "    # and provide a `session` variable to execute queries on this connection\n",
    "    async with Client(\n",
    "        transport=transport,\n",
    "        fetch_schema_from_transport=True,\n",
    "    ) as session:\n",
    "\n",
    "        # Execute single query\n",
    "        query = gql(query_str)\n",
    "        return await session.execute(query)\n",
    "\n",
    "\n",
    "rekt_df = await get_data(rekt_query_str)\n",
    "rekt_df = pd.DataFrame(rekt_df['rekts'])\n",
    "\n",
    "chains_df = await get_data(chains_query_str)\n",
    "chains_df = pd.DataFrame(chains_df['chains']).set_index('id')"
   ]
  },
  {
   "cell_type": "markdown",
   "id": "54c8bc3e",
   "metadata": {},
   "source": [
    "## Clean data"
   ]
  },
  {
   "cell_type": "code",
   "execution_count": 7,
   "id": "83dee3ed",
   "metadata": {},
   "outputs": [],
   "source": [
    "# rekt_df = pd.DataFrame(result['rekts'], dtype={'fundsLost': 'float'})\n",
    "rekt_df['fundsLost'] = pd.to_numeric(rekt_df['fundsLost'])\n",
    "rekt_df['fundsReturned'] = pd.to_numeric(rekt_df['fundsReturned'])\n",
    "rekt_df['date'] = pd.to_datetime(rekt_df['date'])\n",
    "\n",
    "rekt_df['chaindId'] = rekt_df['chaindIds'].apply(lambda x: None if len(x) == 0 else x[0])\n",
    "rekt_df['tokenName'] = rekt_df['token'].apply(lambda x: None if x['name'] == None else x['name'].split(',')[0])"
   ]
  },
  {
   "cell_type": "markdown",
   "id": "ecd61026",
   "metadata": {},
   "source": [
    "## Merge dataframes"
   ]
  },
  {
   "cell_type": "code",
   "execution_count": 8,
   "id": "f6fbb786",
   "metadata": {},
   "outputs": [
    {
     "data": {
      "text/html": [
       "<div>\n",
       "<style scoped>\n",
       "    .dataframe tbody tr th:only-of-type {\n",
       "        vertical-align: middle;\n",
       "    }\n",
       "\n",
       "    .dataframe tbody tr th {\n",
       "        vertical-align: top;\n",
       "    }\n",
       "\n",
       "    .dataframe thead th {\n",
       "        text-align: right;\n",
       "    }\n",
       "</style>\n",
       "<table border=\"1\" class=\"dataframe\">\n",
       "  <thead>\n",
       "    <tr style=\"text-align: right;\">\n",
       "      <th></th>\n",
       "      <th>id</th>\n",
       "      <th>projectName</th>\n",
       "      <th>date</th>\n",
       "      <th>description</th>\n",
       "      <th>fundsLost</th>\n",
       "      <th>fundsReturned</th>\n",
       "      <th>category</th>\n",
       "      <th>issueType</th>\n",
       "      <th>chaindIds</th>\n",
       "      <th>token</th>\n",
       "      <th>chaindId</th>\n",
       "      <th>tokenName</th>\n",
       "      <th>chainName</th>\n",
       "    </tr>\n",
       "  </thead>\n",
       "  <tbody>\n",
       "    <tr>\n",
       "      <th>0</th>\n",
       "      <td>3058</td>\n",
       "      <td>Terra Classic</td>\n",
       "      <td>2022-05-08</td>\n",
       "      <td>&lt;p&gt;&lt;strong&gt;Quick Summary&lt;/strong&gt;&lt;/p&gt;&lt;p&gt;A comp...</td>\n",
       "      <td>40000000000</td>\n",
       "      <td>0</td>\n",
       "      <td>Stablecoin</td>\n",
       "      <td>Other</td>\n",
       "      <td>[22]</td>\n",
       "      <td>{'name': 'LUNC, USTC'}</td>\n",
       "      <td>22.0</td>\n",
       "      <td>LUNC</td>\n",
       "      <td>cardano</td>\n",
       "    </tr>\n",
       "    <tr>\n",
       "      <th>42</th>\n",
       "      <td>3030</td>\n",
       "      <td>Mirror Protocol</td>\n",
       "      <td>2021-10-08</td>\n",
       "      <td>&lt;p&gt;&lt;strong&gt;Quick Summary&lt;/strong&gt;&lt;/p&gt;&lt;p&gt;Terra'...</td>\n",
       "      <td>90000000</td>\n",
       "      <td>0</td>\n",
       "      <td>Borrowing and Lending,Other</td>\n",
       "      <td>Other</td>\n",
       "      <td>[22]</td>\n",
       "      <td>{'name': 'MIR'}</td>\n",
       "      <td>22.0</td>\n",
       "      <td>MIR</td>\n",
       "      <td>cardano</td>\n",
       "    </tr>\n",
       "    <tr>\n",
       "      <th>15</th>\n",
       "      <td>2543</td>\n",
       "      <td>Poly Network</td>\n",
       "      <td>2021-08-10</td>\n",
       "      <td>&lt;p&gt;&lt;strong&gt;Quick Summary&lt;/strong&gt;&lt;/p&gt;&lt;p&gt;&lt;span ...</td>\n",
       "      <td>602189570</td>\n",
       "      <td>602189570</td>\n",
       "      <td>Other</td>\n",
       "      <td>Other</td>\n",
       "      <td>[1]</td>\n",
       "      <td>{'name': None}</td>\n",
       "      <td>1.0</td>\n",
       "      <td>None</td>\n",
       "      <td>ethereum</td>\n",
       "    </tr>\n",
       "    <tr>\n",
       "      <th>24</th>\n",
       "      <td>3112</td>\n",
       "      <td>Nomad</td>\n",
       "      <td>2022-08-01</td>\n",
       "      <td>&lt;p&gt;&lt;strong&gt;Quick Summary&lt;/strong&gt;&lt;br&gt;The Nomad...</td>\n",
       "      <td>190000000</td>\n",
       "      <td>36342325</td>\n",
       "      <td>Bridge</td>\n",
       "      <td>Other</td>\n",
       "      <td>[1]</td>\n",
       "      <td>{'name': 'Nomad: ERC20 Bridge'}</td>\n",
       "      <td>1.0</td>\n",
       "      <td>Nomad: ERC20 Bridge</td>\n",
       "      <td>ethereum</td>\n",
       "    </tr>\n",
       "    <tr>\n",
       "      <th>25</th>\n",
       "      <td>2991</td>\n",
       "      <td>Beanstalk</td>\n",
       "      <td>2022-04-18</td>\n",
       "      <td>&lt;p&gt;&lt;strong&gt;Quick Summary&lt;/strong&gt;&amp;nbsp;&lt;/p&gt;&lt;p&gt;...</td>\n",
       "      <td>181000000</td>\n",
       "      <td>0</td>\n",
       "      <td>Stablecoin</td>\n",
       "      <td>Flash Loan Attack</td>\n",
       "      <td>[1]</td>\n",
       "      <td>{'name': 'BEAN'}</td>\n",
       "      <td>1.0</td>\n",
       "      <td>BEAN</td>\n",
       "      <td>ethereum</td>\n",
       "    </tr>\n",
       "  </tbody>\n",
       "</table>\n",
       "</div>"
      ],
      "text/plain": [
       "      id      projectName       date  \\\n",
       "0   3058    Terra Classic 2022-05-08   \n",
       "42  3030  Mirror Protocol 2021-10-08   \n",
       "15  2543     Poly Network 2021-08-10   \n",
       "24  3112            Nomad 2022-08-01   \n",
       "25  2991        Beanstalk 2022-04-18   \n",
       "\n",
       "                                          description    fundsLost  \\\n",
       "0   <p><strong>Quick Summary</strong></p><p>A comp...  40000000000   \n",
       "42  <p><strong>Quick Summary</strong></p><p>Terra'...     90000000   \n",
       "15  <p><strong>Quick Summary</strong></p><p><span ...    602189570   \n",
       "24  <p><strong>Quick Summary</strong><br>The Nomad...    190000000   \n",
       "25  <p><strong>Quick Summary</strong>&nbsp;</p><p>...    181000000   \n",
       "\n",
       "    fundsReturned                     category          issueType chaindIds  \\\n",
       "0               0                   Stablecoin              Other      [22]   \n",
       "42              0  Borrowing and Lending,Other              Other      [22]   \n",
       "15      602189570                        Other              Other       [1]   \n",
       "24       36342325                       Bridge              Other       [1]   \n",
       "25              0                   Stablecoin  Flash Loan Attack       [1]   \n",
       "\n",
       "                              token  chaindId            tokenName chainName  \n",
       "0            {'name': 'LUNC, USTC'}      22.0                 LUNC   cardano  \n",
       "42                  {'name': 'MIR'}      22.0                  MIR   cardano  \n",
       "15                   {'name': None}       1.0                 None  ethereum  \n",
       "24  {'name': 'Nomad: ERC20 Bridge'}       1.0  Nomad: ERC20 Bridge  ethereum  \n",
       "25                 {'name': 'BEAN'}       1.0                 BEAN  ethereum  "
      ]
     },
     "execution_count": 8,
     "metadata": {},
     "output_type": "execute_result"
    }
   ],
   "source": [
    "final_df = pd.merge(rekt_df, chains_df[['name']].rename(columns={'name': 'chainName'}), left_on=['chaindId'], right_index=True)\n",
    "final_df.head()"
   ]
  },
  {
   "cell_type": "markdown",
   "id": "00fbb4c6",
   "metadata": {},
   "source": [
    "## Visualisation"
   ]
  },
  {
   "cell_type": "markdown",
   "id": "d6af8095",
   "metadata": {},
   "source": [
    "### Cumulative Lost Funds"
   ]
  },
  {
   "cell_type": "code",
   "execution_count": 12,
   "id": "1c9d453b",
   "metadata": {},
   "outputs": [
    {
     "data": {
      "image/svg+xml": [
       "<svg class=\"main-svg\" xmlns=\"http://www.w3.org/2000/svg\" xmlns:xlink=\"http://www.w3.org/1999/xlink\" width=\"700\" height=\"500\" style=\"\" viewBox=\"0 0 700 500\"><rect x=\"0\" y=\"0\" width=\"700\" height=\"500\" style=\"fill: rgb(255, 255, 255); fill-opacity: 1;\"/><defs id=\"defs-f25b19\"><g class=\"clips\"><clipPath id=\"clipf25b19xyplot\" class=\"plotclip\"><rect width=\"451\" height=\"253\"/></clipPath><clipPath class=\"axesclip\" id=\"clipf25b19x\"><rect x=\"80\" y=\"0\" width=\"451\" height=\"500\"/></clipPath><clipPath class=\"axesclip\" id=\"clipf25b19y\"><rect x=\"0\" y=\"100\" width=\"700\" height=\"253\"/></clipPath><clipPath class=\"axesclip\" id=\"clipf25b19xy\"><rect x=\"80\" y=\"100\" width=\"451\" height=\"253\"/></clipPath></g><g class=\"gradients\"/><g class=\"patterns\"/></defs><g class=\"bglayer\"><rect class=\"bg\" x=\"80\" y=\"100\" width=\"451\" height=\"253\" style=\"fill: rgb(229, 236, 246); fill-opacity: 1; stroke-width: 0;\"/></g><g class=\"layer-below\"><g class=\"imagelayer\"/><g class=\"shapelayer\"/></g><g class=\"cartesianlayer\"><g class=\"subplot xy\"><g class=\"layer-subplot\"><g class=\"shapelayer\"/><g class=\"imagelayer\"/></g><g class=\"minor-gridlayer\"><g class=\"x\"/><g class=\"y\"/></g><g class=\"gridlayer\"><g class=\"x\"><path class=\"xgrid crisp\" transform=\"translate(130.11,0)\" d=\"M0,100v253\" style=\"stroke: rgb(255, 255, 255); stroke-opacity: 1; stroke-width: 1px;\"/><path class=\"xgrid crisp\" transform=\"translate(180.22,0)\" d=\"M0,100v253\" style=\"stroke: rgb(255, 255, 255); stroke-opacity: 1; stroke-width: 1px;\"/><path class=\"xgrid crisp\" transform=\"translate(230.33,0)\" d=\"M0,100v253\" style=\"stroke: rgb(255, 255, 255); stroke-opacity: 1; stroke-width: 1px;\"/><path class=\"xgrid crisp\" transform=\"translate(280.44,0)\" d=\"M0,100v253\" style=\"stroke: rgb(255, 255, 255); stroke-opacity: 1; stroke-width: 1px;\"/><path class=\"xgrid crisp\" transform=\"translate(330.56,0)\" d=\"M0,100v253\" style=\"stroke: rgb(255, 255, 255); stroke-opacity: 1; stroke-width: 1px;\"/><path class=\"xgrid crisp\" transform=\"translate(380.67,0)\" d=\"M0,100v253\" style=\"stroke: rgb(255, 255, 255); stroke-opacity: 1; stroke-width: 1px;\"/><path class=\"xgrid crisp\" transform=\"translate(430.78,0)\" d=\"M0,100v253\" style=\"stroke: rgb(255, 255, 255); stroke-opacity: 1; stroke-width: 1px;\"/><path class=\"xgrid crisp\" transform=\"translate(480.89,0)\" d=\"M0,100v253\" style=\"stroke: rgb(255, 255, 255); stroke-opacity: 1; stroke-width: 1px;\"/></g><g class=\"y\"><path class=\"ygrid crisp\" transform=\"translate(0,284.07)\" d=\"M80,0h451\" style=\"stroke: rgb(255, 255, 255); stroke-opacity: 1; stroke-width: 1px;\"/><path class=\"ygrid crisp\" transform=\"translate(0,227.26999999999998)\" d=\"M80,0h451\" style=\"stroke: rgb(255, 255, 255); stroke-opacity: 1; stroke-width: 1px;\"/><path class=\"ygrid crisp\" transform=\"translate(0,170.47)\" d=\"M80,0h451\" style=\"stroke: rgb(255, 255, 255); stroke-opacity: 1; stroke-width: 1px;\"/><path class=\"ygrid crisp\" transform=\"translate(0,113.68)\" d=\"M80,0h451\" style=\"stroke: rgb(255, 255, 255); stroke-opacity: 1; stroke-width: 1px;\"/></g></g><g class=\"zerolinelayer\"><path class=\"yzl zl crisp\" transform=\"translate(0,340.86)\" d=\"M80,0h451\" style=\"stroke: rgb(255, 255, 255); stroke-opacity: 1; stroke-width: 2px;\"/></g><path class=\"xlines-below\"/><path class=\"ylines-below\"/><g class=\"overlines-below\"/><g class=\"xaxislayer-below\"/><g class=\"yaxislayer-below\"/><g class=\"overaxes-below\"/><g class=\"plot\" transform=\"translate(80,100)\" clip-path=\"url(#clipf25b19xyplot)\"><g class=\"scatterlayer mlayer\"><g class=\"trace scatter traced04a3c\" style=\"stroke-miterlimit: 2; opacity: 1;\"><g class=\"fills\"/><g class=\"errorbars\"/><g class=\"lines\"><path class=\"js-line\" d=\"M0,12.65L50.11,235.77L100.22,236.85L150.33,239.01L200.44,239.95L451,240.35\" style=\"vector-effect: non-scaling-stroke; fill: none; stroke: rgb(99, 110, 250); stroke-opacity: 1; stroke-width: 2px; opacity: 1;\"/></g><g class=\"points\"/><g class=\"text\"/></g></g></g><g class=\"overplot\"/><path class=\"xlines-above crisp\" d=\"M0,0\" style=\"fill: none;\"/><path class=\"ylines-above crisp\" d=\"M0,0\" style=\"fill: none;\"/><g class=\"overlines-above\"/><g class=\"xaxislayer-above\"><g class=\"xtick\"><text text-anchor=\"start\" x=\"0\" y=\"366\" transform=\"translate(80,0) rotate(30,0,360)\" style=\"font-family: 'Open Sans', verdana, arial, sans-serif; font-size: 12px; fill: rgb(42, 63, 95); fill-opacity: 1; white-space: pre; opacity: 1;\">Stablecoin</text></g><g class=\"xtick\"><text text-anchor=\"start\" x=\"0\" y=\"366\" transform=\"translate(130.11,0) rotate(30,0,360)\" style=\"font-family: 'Open Sans', verdana, arial, sans-serif; font-size: 12px; fill: rgb(42, 63, 95); fill-opacity: 1; white-space: pre; opacity: 1;\">Other</text></g><g class=\"xtick\"><text text-anchor=\"start\" x=\"0\" y=\"366\" transform=\"translate(180.22,0) rotate(30,0,360)\" style=\"font-family: 'Open Sans', verdana, arial, sans-serif; font-size: 12px; fill: rgb(42, 63, 95); fill-opacity: 1; white-space: pre; opacity: 1;\">Bridge</text></g><g class=\"xtick\"><text text-anchor=\"start\" x=\"0\" y=\"366\" transform=\"translate(230.33,0) rotate(30,0,360)\" style=\"font-family: 'Open Sans', verdana, arial, sans-serif; font-size: 12px; fill: rgb(42, 63, 95); fill-opacity: 1; white-space: pre; opacity: 1;\">Borrowing and Lending</text></g><g class=\"xtick\"><text text-anchor=\"start\" x=\"0\" y=\"366\" transform=\"translate(280.44,0) rotate(30,0,360)\" style=\"font-family: 'Open Sans', verdana, arial, sans-serif; font-size: 12px; fill: rgb(42, 63, 95); fill-opacity: 1; white-space: pre; opacity: 1;\">CeFi,Yield Aggregator</text></g><g class=\"xtick\"><text text-anchor=\"start\" x=\"0\" y=\"366\" transform=\"translate(330.56,0) rotate(30,0,360)\" style=\"font-family: 'Open Sans', verdana, arial, sans-serif; font-size: 12px; fill: rgb(42, 63, 95); fill-opacity: 1; white-space: pre; opacity: 1;\">Gaming / Metaverse</text></g><g class=\"xtick\"><text text-anchor=\"start\" x=\"0\" y=\"366\" transform=\"translate(380.67,0) rotate(30,0,360)\" style=\"font-family: 'Open Sans', verdana, arial, sans-serif; font-size: 12px; fill: rgb(42, 63, 95); fill-opacity: 1; white-space: pre; opacity: 1;\">Borrowing and Lending,Exchange (DEX)</text></g><g class=\"xtick\"><text text-anchor=\"start\" x=\"0\" y=\"366\" transform=\"translate(430.78,0) rotate(30,0,360)\" style=\"font-family: 'Open Sans', verdana, arial, sans-serif; font-size: 12px; fill: rgb(42, 63, 95); fill-opacity: 1; white-space: pre; opacity: 1;\">Yield Aggregator</text></g><g class=\"xtick\"><text text-anchor=\"start\" x=\"0\" y=\"366\" transform=\"translate(480.89,0) rotate(30,0,360)\" style=\"font-family: 'Open Sans', verdana, arial, sans-serif; font-size: 12px; fill: rgb(42, 63, 95); fill-opacity: 1; white-space: pre; opacity: 1;\">Exchange (DEX)</text></g><g class=\"xtick\"><text text-anchor=\"start\" x=\"0\" y=\"366\" transform=\"translate(531,0) rotate(30,0,360)\" style=\"font-family: 'Open Sans', verdana, arial, sans-serif; font-size: 12px; fill: rgb(42, 63, 95); fill-opacity: 1; white-space: pre; opacity: 1;\">Borrowing and Lending,Other</text></g></g><g class=\"yaxislayer-above\"><g class=\"ytick\"><text text-anchor=\"end\" x=\"79\" y=\"4.199999999999999\" transform=\"translate(0,340.86)\" style=\"font-family: 'Open Sans', verdana, arial, sans-serif; font-size: 12px; fill: rgb(42, 63, 95); fill-opacity: 1; white-space: pre; opacity: 1;\">0</text></g><g class=\"ytick\"><text text-anchor=\"end\" x=\"79\" y=\"4.199999999999999\" style=\"font-family: 'Open Sans', verdana, arial, sans-serif; font-size: 12px; fill: rgb(42, 63, 95); fill-opacity: 1; white-space: pre; opacity: 1;\" transform=\"translate(0,284.07)\">10B</text></g><g class=\"ytick\"><text text-anchor=\"end\" x=\"79\" y=\"4.199999999999999\" style=\"font-family: 'Open Sans', verdana, arial, sans-serif; font-size: 12px; fill: rgb(42, 63, 95); fill-opacity: 1; white-space: pre; opacity: 1;\" transform=\"translate(0,227.26999999999998)\">20B</text></g><g class=\"ytick\"><text text-anchor=\"end\" x=\"79\" y=\"4.199999999999999\" style=\"font-family: 'Open Sans', verdana, arial, sans-serif; font-size: 12px; fill: rgb(42, 63, 95); fill-opacity: 1; white-space: pre; opacity: 1;\" transform=\"translate(0,170.47)\">30B</text></g><g class=\"ytick\"><text text-anchor=\"end\" x=\"79\" y=\"4.199999999999999\" style=\"font-family: 'Open Sans', verdana, arial, sans-serif; font-size: 12px; fill: rgb(42, 63, 95); fill-opacity: 1; white-space: pre; opacity: 1;\" transform=\"translate(0,113.68)\">40B</text></g></g><g class=\"overaxes-above\"/></g></g><g class=\"polarlayer\"/><g class=\"smithlayer\"/><g class=\"ternarylayer\"/><g class=\"geolayer\"/><g class=\"funnelarealayer\"/><g class=\"pielayer\"/><g class=\"iciclelayer\"/><g class=\"treemaplayer\"/><g class=\"sunburstlayer\"/><g class=\"glimages\"/><defs id=\"topdefs-f25b19\"><g class=\"clips\"/></defs><g class=\"layer-above\"><g class=\"imagelayer\"/><g class=\"shapelayer\"/></g><g class=\"infolayer\"><g class=\"g-gtitle\"/><g class=\"g-xtitle\"/><g class=\"g-ytitle\"/></g></svg>"
      ]
     },
     "metadata": {},
     "output_type": "display_data"
    }
   ],
   "source": [
    "groupby_col = 'category'\n",
    "\n",
    "mask = final_df['date'] >= '2022-01-01'\n",
    "# grouped = df[mask].groupby(groupby_col)[['fundsLost', 'fundsReturned']].sum()\n",
    "grouped = final_df.groupby(groupby_col)[['fundsLost', 'fundsReturned']].sum()\n",
    "\n",
    "grouped.sort_values(by='fundsLost', ascending=False, inplace=True)\n",
    "fig = go.Figure()\n",
    "fig.add_trace(go.Scatter(x=grouped.index, y=grouped['fundsLost'],\n",
    "                    mode='lines',\n",
    "                    name='fundsLost'))\n",
    "\n",
    "fig.show(\"svg\")"
   ]
  },
  {
   "cell_type": "code",
   "execution_count": null,
   "id": "ac14a038",
   "metadata": {},
   "outputs": [],
   "source": []
  }
 ],
 "metadata": {
  "kernelspec": {
   "display_name": "Python 3 (ipykernel)",
   "language": "python",
   "name": "python3"
  },
  "language_info": {
   "codemirror_mode": {
    "name": "ipython",
    "version": 3
   },
   "file_extension": ".py",
   "mimetype": "text/x-python",
   "name": "python",
   "nbconvert_exporter": "python",
   "pygments_lexer": "ipython3",
   "version": "3.10.6"
  },
  "toc": {
   "base_numbering": 1,
   "nav_menu": {},
   "number_sections": true,
   "sideBar": true,
   "skip_h1_title": false,
   "title_cell": "Table of Contents",
   "title_sidebar": "Contents",
   "toc_cell": false,
   "toc_position": {},
   "toc_section_display": true,
   "toc_window_display": true
  }
 },
 "nbformat": 4,
 "nbformat_minor": 5
}
